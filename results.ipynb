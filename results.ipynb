{
 "cells": [
  {
   "cell_type": "code",
   "execution_count": 1,
   "metadata": {},
   "outputs": [],
   "source": [
    "import pandas as pd\n",
    "import matplotlib.pyplot as plt\n",
    "import re"
   ]
  },
  {
   "cell_type": "markdown",
   "metadata": {},
   "source": [
    "# Load and transform data"
   ]
  },
  {
   "cell_type": "code",
   "execution_count": 20,
   "metadata": {},
   "outputs": [],
   "source": [
    "results1 = pd.read_csv(\"rm1_results.csv\")\n",
    "results2 = pd.read_csv(\"rm2_results.csv\")\n",
    "results5 = pd.read_csv(\"rm5_results.csv\")"
   ]
  },
  {
   "cell_type": "code",
   "execution_count": 21,
   "metadata": {},
   "outputs": [],
   "source": [
    "# extract OD method to separate column\n",
    "results1['od'] = results1['step_1'].apply(lambda x: re.search('\\'name\\': \\'(.*?)\\'', x).group(1))\n",
    "results2['od'] = results2['step_1'].apply(lambda x: re.search('\\'name\\': \\'(.*?)\\'', x).group(1))\n",
    "results5['od'] = results5['step_1'].apply(lambda x: re.search('\\'name\\': \\'(.*?)\\'', x).group(1))"
   ]
  },
  {
   "cell_type": "code",
   "execution_count": 50,
   "metadata": {},
   "outputs": [],
   "source": [
    "# rename datasets\n",
    "for results in [results1, results2, results5]:\n",
    "    results['dataset'] = results['dataset'].apply(lambda x: x.replace('reduced-', ''))\n",
    "    results.loc[results['dataset'] == '100', 'dataset'] = 'bin_100'\n",
    "    results.loc[results['dataset'] == '75', 'dataset'] = 'bin_75'\n",
    "    results.loc[results['dataset'] == '50', 'dataset'] = 'bin_50'"
   ]
  },
  {
   "cell_type": "code",
   "execution_count": 51,
   "metadata": {},
   "outputs": [
    {
     "data": {
      "text/html": [
       "<div>\n",
       "<style scoped>\n",
       "    .dataframe tbody tr th:only-of-type {\n",
       "        vertical-align: middle;\n",
       "    }\n",
       "\n",
       "    .dataframe tbody tr th {\n",
       "        vertical-align: top;\n",
       "    }\n",
       "\n",
       "    .dataframe thead th {\n",
       "        text-align: right;\n",
       "    }\n",
       "</style>\n",
       "<table border=\"1\" class=\"dataframe\">\n",
       "  <thead>\n",
       "    <tr style=\"text-align: right;\">\n",
       "      <th></th>\n",
       "      <th>dataset</th>\n",
       "      <th>clf</th>\n",
       "      <th>clf_family</th>\n",
       "      <th>clf_params</th>\n",
       "      <th>step_0</th>\n",
       "      <th>step_1</th>\n",
       "      <th>step_2</th>\n",
       "      <th>accuracy</th>\n",
       "      <th>od</th>\n",
       "    </tr>\n",
       "  </thead>\n",
       "  <tbody>\n",
       "    <tr>\n",
       "      <th>0</th>\n",
       "      <td>bin_100</td>\n",
       "      <td>DecisionTable</td>\n",
       "      <td>rules</td>\n",
       "      <td>[]</td>\n",
       "      <td>{'data_path': 'data/datasets/', 'k_of_folds': ...</td>\n",
       "      <td>{'name': 'CODB', 'parameters': {'jar_path': 'd...</td>\n",
       "      <td>{'RM': 1.0}</td>\n",
       "      <td>0.83874</td>\n",
       "      <td>CODB</td>\n",
       "    </tr>\n",
       "    <tr>\n",
       "      <th>1</th>\n",
       "      <td>bin_100</td>\n",
       "      <td>DecisionTable</td>\n",
       "      <td>rules</td>\n",
       "      <td>[]</td>\n",
       "      <td>{'data_path': 'data/datasets/', 'k_of_folds': ...</td>\n",
       "      <td>{'name': 'ClassLikelihood', 'parameters': {}}</td>\n",
       "      <td>{'RM': 1.0}</td>\n",
       "      <td>0.83530</td>\n",
       "      <td>ClassLikelihood</td>\n",
       "    </tr>\n",
       "    <tr>\n",
       "      <th>2</th>\n",
       "      <td>bin_100</td>\n",
       "      <td>DecisionTable</td>\n",
       "      <td>rules</td>\n",
       "      <td>[]</td>\n",
       "      <td>{'data_path': 'data/datasets/', 'k_of_folds': ...</td>\n",
       "      <td>{'name': 'ClassLikelihoodDifference', 'paramet...</td>\n",
       "      <td>{'RM': 1.0}</td>\n",
       "      <td>0.83530</td>\n",
       "      <td>ClassLikelihoodDifference</td>\n",
       "    </tr>\n",
       "    <tr>\n",
       "      <th>3</th>\n",
       "      <td>bin_100</td>\n",
       "      <td>DecisionTable</td>\n",
       "      <td>rules</td>\n",
       "      <td>[]</td>\n",
       "      <td>{'data_path': 'data/datasets/', 'k_of_folds': ...</td>\n",
       "      <td>{'name': 'DS', 'parameters': {}}</td>\n",
       "      <td>{'RM': 1.0}</td>\n",
       "      <td>0.83070</td>\n",
       "      <td>DS</td>\n",
       "    </tr>\n",
       "    <tr>\n",
       "      <th>4</th>\n",
       "      <td>bin_100</td>\n",
       "      <td>DecisionTable</td>\n",
       "      <td>rules</td>\n",
       "      <td>[]</td>\n",
       "      <td>{'data_path': 'data/datasets/', 'k_of_folds': ...</td>\n",
       "      <td>{'name': 'IsolationForest', 'parameters': {'be...</td>\n",
       "      <td>{'RM': 1.0}</td>\n",
       "      <td>0.82594</td>\n",
       "      <td>IsolationForest</td>\n",
       "    </tr>\n",
       "    <tr>\n",
       "      <th>...</th>\n",
       "      <td>...</td>\n",
       "      <td>...</td>\n",
       "      <td>...</td>\n",
       "      <td>...</td>\n",
       "      <td>...</td>\n",
       "      <td>...</td>\n",
       "      <td>...</td>\n",
       "      <td>...</td>\n",
       "      <td>...</td>\n",
       "    </tr>\n",
       "    <tr>\n",
       "      <th>1183</th>\n",
       "      <td>tf-idf-75</td>\n",
       "      <td>ZeroR</td>\n",
       "      <td>rules</td>\n",
       "      <td>[]</td>\n",
       "      <td>{'data_path': 'data/datasets/', 'k_of_folds': ...</td>\n",
       "      <td>{'name': 'LOF', 'parameters': {'contamination'...</td>\n",
       "      <td>{'RM': 1.0}</td>\n",
       "      <td>0.53741</td>\n",
       "      <td>LOF</td>\n",
       "    </tr>\n",
       "    <tr>\n",
       "      <th>1184</th>\n",
       "      <td>tf-idf-75</td>\n",
       "      <td>ZeroR</td>\n",
       "      <td>rules</td>\n",
       "      <td>[]</td>\n",
       "      <td>{'data_path': 'data/datasets/', 'k_of_folds': ...</td>\n",
       "      <td>{'name': 'NearestNeighbors', 'parameters': {}}</td>\n",
       "      <td>{'RM': 1.0}</td>\n",
       "      <td>0.53741</td>\n",
       "      <td>NearestNeighbors</td>\n",
       "    </tr>\n",
       "    <tr>\n",
       "      <th>1185</th>\n",
       "      <td>tf-idf-75</td>\n",
       "      <td>ZeroR</td>\n",
       "      <td>rules</td>\n",
       "      <td>[]</td>\n",
       "      <td>{'data_path': 'data/datasets/', 'k_of_folds': ...</td>\n",
       "      <td>{'name': 'OneClassSVM', 'parameters': {'gamma'...</td>\n",
       "      <td>{'RM': 1.0}</td>\n",
       "      <td>0.53741</td>\n",
       "      <td>OneClassSVM</td>\n",
       "    </tr>\n",
       "    <tr>\n",
       "      <th>1186</th>\n",
       "      <td>tf-idf-75</td>\n",
       "      <td>ZeroR</td>\n",
       "      <td>rules</td>\n",
       "      <td>[]</td>\n",
       "      <td>{'data_path': 'data/datasets/', 'k_of_folds': ...</td>\n",
       "      <td>{'name': 'TD', 'parameters': {}}</td>\n",
       "      <td>{'RM': 1.0}</td>\n",
       "      <td>0.53741</td>\n",
       "      <td>TD</td>\n",
       "    </tr>\n",
       "    <tr>\n",
       "      <th>1187</th>\n",
       "      <td>tf-idf-75</td>\n",
       "      <td>ZeroR</td>\n",
       "      <td>rules</td>\n",
       "      <td>[]</td>\n",
       "      <td>{'data_path': 'data/datasets/', 'k_of_folds': ...</td>\n",
       "      <td>{'name': 'TDWithPrunning', 'parameters': {}}</td>\n",
       "      <td>{'RM': 1.0}</td>\n",
       "      <td>0.53741</td>\n",
       "      <td>TDWithPrunning</td>\n",
       "    </tr>\n",
       "  </tbody>\n",
       "</table>\n",
       "<p>1188 rows × 9 columns</p>\n",
       "</div>"
      ],
      "text/plain": [
       "        dataset            clf clf_family clf_params  \\\n",
       "0       bin_100  DecisionTable      rules         []   \n",
       "1       bin_100  DecisionTable      rules         []   \n",
       "2       bin_100  DecisionTable      rules         []   \n",
       "3       bin_100  DecisionTable      rules         []   \n",
       "4       bin_100  DecisionTable      rules         []   \n",
       "...         ...            ...        ...        ...   \n",
       "1183  tf-idf-75          ZeroR      rules         []   \n",
       "1184  tf-idf-75          ZeroR      rules         []   \n",
       "1185  tf-idf-75          ZeroR      rules         []   \n",
       "1186  tf-idf-75          ZeroR      rules         []   \n",
       "1187  tf-idf-75          ZeroR      rules         []   \n",
       "\n",
       "                                                 step_0  \\\n",
       "0     {'data_path': 'data/datasets/', 'k_of_folds': ...   \n",
       "1     {'data_path': 'data/datasets/', 'k_of_folds': ...   \n",
       "2     {'data_path': 'data/datasets/', 'k_of_folds': ...   \n",
       "3     {'data_path': 'data/datasets/', 'k_of_folds': ...   \n",
       "4     {'data_path': 'data/datasets/', 'k_of_folds': ...   \n",
       "...                                                 ...   \n",
       "1183  {'data_path': 'data/datasets/', 'k_of_folds': ...   \n",
       "1184  {'data_path': 'data/datasets/', 'k_of_folds': ...   \n",
       "1185  {'data_path': 'data/datasets/', 'k_of_folds': ...   \n",
       "1186  {'data_path': 'data/datasets/', 'k_of_folds': ...   \n",
       "1187  {'data_path': 'data/datasets/', 'k_of_folds': ...   \n",
       "\n",
       "                                                 step_1       step_2  \\\n",
       "0     {'name': 'CODB', 'parameters': {'jar_path': 'd...  {'RM': 1.0}   \n",
       "1         {'name': 'ClassLikelihood', 'parameters': {}}  {'RM': 1.0}   \n",
       "2     {'name': 'ClassLikelihoodDifference', 'paramet...  {'RM': 1.0}   \n",
       "3                      {'name': 'DS', 'parameters': {}}  {'RM': 1.0}   \n",
       "4     {'name': 'IsolationForest', 'parameters': {'be...  {'RM': 1.0}   \n",
       "...                                                 ...          ...   \n",
       "1183  {'name': 'LOF', 'parameters': {'contamination'...  {'RM': 1.0}   \n",
       "1184     {'name': 'NearestNeighbors', 'parameters': {}}  {'RM': 1.0}   \n",
       "1185  {'name': 'OneClassSVM', 'parameters': {'gamma'...  {'RM': 1.0}   \n",
       "1186                   {'name': 'TD', 'parameters': {}}  {'RM': 1.0}   \n",
       "1187       {'name': 'TDWithPrunning', 'parameters': {}}  {'RM': 1.0}   \n",
       "\n",
       "      accuracy                         od  \n",
       "0      0.83874                       CODB  \n",
       "1      0.83530            ClassLikelihood  \n",
       "2      0.83530  ClassLikelihoodDifference  \n",
       "3      0.83070                         DS  \n",
       "4      0.82594            IsolationForest  \n",
       "...        ...                        ...  \n",
       "1183   0.53741                        LOF  \n",
       "1184   0.53741           NearestNeighbors  \n",
       "1185   0.53741                OneClassSVM  \n",
       "1186   0.53741                         TD  \n",
       "1187   0.53741             TDWithPrunning  \n",
       "\n",
       "[1188 rows x 9 columns]"
      ]
     },
     "execution_count": 51,
     "metadata": {},
     "output_type": "execute_result"
    }
   ],
   "source": [
    "results1"
   ]
  },
  {
   "cell_type": "markdown",
   "metadata": {},
   "source": [
    "# Plots"
   ]
  },
  {
   "cell_type": "markdown",
   "metadata": {},
   "source": [
    "## Plot accuracy by dataset\n",
    "the suffix number represents percent of optimal attributes"
   ]
  },
  {
   "cell_type": "code",
   "execution_count": 52,
   "metadata": {},
   "outputs": [
    {
     "data": {
      "image/png": "[encoded data removed]",
      "text/plain": [
       "<Figure size 1152x288 with 3 Axes>"
      ]
     },
     "metadata": {
      "needs_background": "light"
     },
     "output_type": "display_data"
    }
   ],
   "source": [
    "plt.figure(figsize=(16,4))\n",
    "plt.subplot(1,3,1)\n",
    "plt.scatter(results1['dataset'], results1['accuracy'])\n",
    "plt.xticks(rotation=60)\n",
    "plt.title(\"One percent outliers\")\n",
    "\n",
    "plt.subplot(1,3,2)\n",
    "plt.scatter(results2['dataset'], results2['accuracy'])\n",
    "plt.xticks(rotation='vertical')\n",
    "plt.title(\"Two percent outliers\")\n",
    "\n",
    "plt.subplot(1,3,3)\n",
    "plt.scatter(results5['dataset'], results5['accuracy'])\n",
    "plt.xticks(rotation='vertical')\n",
    "plt.title(\"Five percent outliers\")\n",
    "plt.show()"
   ]
  },
  {
   "cell_type": "markdown",
   "metadata": {},
   "source": [
    "## Plot accuracy by classifier"
   ]
  },
  {
   "cell_type": "code",
   "execution_count": 63,
   "metadata": {},
   "outputs": [
    {
     "data": {
      "image/png": "[encoded data removed]",
      "text/plain": [
       "<Figure size 1296x288 with 3 Axes>"
      ]
     },
     "metadata": {
      "needs_background": "light"
     },
     "output_type": "display_data"
    }
   ],
   "source": [
    "plt.figure(figsize=(18,4))\n",
    "plt.subplot(1,3,1)\n",
    "plt.scatter(results1['clf'], results1['accuracy'])\n",
    "plt.xticks(rotation=60)\n",
    "plt.ylabel(\"Accuracy\")\n",
    "plt.title(\"One percent outliers\")\n",
    "\n",
    "plt.subplot(1,3,2)\n",
    "plt.scatter(results2['clf'], results2['accuracy'])\n",
    "plt.xticks(rotation=60)\n",
    "plt.ylabel(\"Accuracy\")\n",
    "plt.title(\"Two percent outliers\")\n",
    "\n",
    "plt.subplot(1,3,3)\n",
    "plt.scatter(results5['clf'], results5['accuracy'])\n",
    "plt.xticks(rotation=60)\n",
    "plt.ylabel(\"Accuracy\")\n",
    "plt.title(\"Five percent outliers\")\n",
    "plt.show()"
   ]
  },
  {
   "cell_type": "markdown",
   "metadata": {},
   "source": [
    "## Plot accuracy by outlier detection method"
   ]
  },
  {
   "cell_type": "code",
   "execution_count": 64,
   "metadata": {},
   "outputs": [
    {
     "data": {
      "image/png": "[encoded data removed]",
      "text/plain": [
       "<Figure size 1152x288 with 3 Axes>"
      ]
     },
     "metadata": {
      "needs_background": "light"
     },
     "output_type": "display_data"
    }
   ],
   "source": [
    "plt.figure(figsize=(16,4))\n",
    "plt.subplot(1,3,1)\n",
    "plt.scatter(results1['od'], results1['accuracy'])\n",
    "plt.xticks(rotation=80)\n",
    "plt.ylabel(\"Accuracy\")\n",
    "plt.title(\"One percent outliers\")\n",
    "\n",
    "plt.subplot(1,3,2)\n",
    "plt.scatter(results2['od'], results2['accuracy'])\n",
    "plt.xticks(rotation=80)\n",
    "plt.ylabel(\"Accuracy\")\n",
    "plt.title(\"Two percent outliers\")\n",
    "\n",
    "plt.subplot(1,3,3)\n",
    "plt.scatter(results5['od'], results5['accuracy'])\n",
    "plt.xticks(rotation=80)\n",
    "plt.ylabel(\"Accuracy\")\n",
    "plt.title(\"Five percent outliers\")\n",
    "plt.show()"
   ]
  },
  {
   "cell_type": "markdown",
   "metadata": {},
   "source": [
    "# Look at top 10 results"
   ]
  },
  {
   "cell_type": "markdown",
   "metadata": {},
   "source": [
    "## One percent outliers"
   ]
  },
  {
   "cell_type": "code",
   "execution_count": 53,
   "metadata": {},
   "outputs": [
    {
     "data": {
      "text/html": [
       "<div>\n",
       "<style scoped>\n",
       "    .dataframe tbody tr th:only-of-type {\n",
       "        vertical-align: middle;\n",
       "    }\n",
       "\n",
       "    .dataframe tbody tr th {\n",
       "        vertical-align: top;\n",
       "    }\n",
       "\n",
       "    .dataframe thead th {\n",
       "        text-align: right;\n",
       "    }\n",
       "</style>\n",
       "<table border=\"1\" class=\"dataframe\">\n",
       "  <thead>\n",
       "    <tr style=\"text-align: right;\">\n",
       "      <th></th>\n",
       "      <th>dataset</th>\n",
       "      <th>clf</th>\n",
       "      <th>accuracy</th>\n",
       "      <th>od</th>\n",
       "    </tr>\n",
       "  </thead>\n",
       "  <tbody>\n",
       "    <tr>\n",
       "      <th>0</th>\n",
       "      <td>tf-idf-100</td>\n",
       "      <td>LMT</td>\n",
       "      <td>0.95095</td>\n",
       "      <td>KDN</td>\n",
       "    </tr>\n",
       "    <tr>\n",
       "      <th>1</th>\n",
       "      <td>tf-100</td>\n",
       "      <td>SMO</td>\n",
       "      <td>0.95079</td>\n",
       "      <td>TD</td>\n",
       "    </tr>\n",
       "    <tr>\n",
       "      <th>2</th>\n",
       "      <td>bin_100</td>\n",
       "      <td>SMO</td>\n",
       "      <td>0.95062</td>\n",
       "      <td>TD</td>\n",
       "    </tr>\n",
       "    <tr>\n",
       "      <th>3</th>\n",
       "      <td>tf-idf-100</td>\n",
       "      <td>SMO</td>\n",
       "      <td>0.95013</td>\n",
       "      <td>TD</td>\n",
       "    </tr>\n",
       "    <tr>\n",
       "      <th>4</th>\n",
       "      <td>tf-idf-100</td>\n",
       "      <td>LMT</td>\n",
       "      <td>0.94931</td>\n",
       "      <td>IsolationForest</td>\n",
       "    </tr>\n",
       "    <tr>\n",
       "      <th>5</th>\n",
       "      <td>bin_100</td>\n",
       "      <td>LMT</td>\n",
       "      <td>0.94931</td>\n",
       "      <td>TD</td>\n",
       "    </tr>\n",
       "    <tr>\n",
       "      <th>6</th>\n",
       "      <td>tf-idf-100</td>\n",
       "      <td>SMO</td>\n",
       "      <td>0.94931</td>\n",
       "      <td>OneClassSVM</td>\n",
       "    </tr>\n",
       "    <tr>\n",
       "      <th>7</th>\n",
       "      <td>tf-100</td>\n",
       "      <td>LMT</td>\n",
       "      <td>0.94915</td>\n",
       "      <td>IsolationForest</td>\n",
       "    </tr>\n",
       "    <tr>\n",
       "      <th>8</th>\n",
       "      <td>bin_100</td>\n",
       "      <td>LMT</td>\n",
       "      <td>0.94915</td>\n",
       "      <td>IsolationForest</td>\n",
       "    </tr>\n",
       "    <tr>\n",
       "      <th>9</th>\n",
       "      <td>tf-idf-100</td>\n",
       "      <td>SMO</td>\n",
       "      <td>0.94915</td>\n",
       "      <td>KDN</td>\n",
       "    </tr>\n",
       "  </tbody>\n",
       "</table>\n",
       "</div>"
      ],
      "text/plain": [
       "      dataset  clf  accuracy               od\n",
       "0  tf-idf-100  LMT   0.95095              KDN\n",
       "1      tf-100  SMO   0.95079               TD\n",
       "2     bin_100  SMO   0.95062               TD\n",
       "3  tf-idf-100  SMO   0.95013               TD\n",
       "4  tf-idf-100  LMT   0.94931  IsolationForest\n",
       "5     bin_100  LMT   0.94931               TD\n",
       "6  tf-idf-100  SMO   0.94931      OneClassSVM\n",
       "7      tf-100  LMT   0.94915  IsolationForest\n",
       "8     bin_100  LMT   0.94915  IsolationForest\n",
       "9  tf-idf-100  SMO   0.94915              KDN"
      ]
     },
     "execution_count": 53,
     "metadata": {},
     "output_type": "execute_result"
    }
   ],
   "source": [
    "results1.sort_values(by=['accuracy'], ascending=False).reset_index(drop=True).head(10).drop(['clf_family', 'clf_params', 'step_0', 'step_1', 'step_2'], axis=1)"
   ]
  },
  {
   "cell_type": "markdown",
   "metadata": {},
   "source": [
    "## Two percent outliers"
   ]
  },
  {
   "cell_type": "code",
   "execution_count": 54,
   "metadata": {},
   "outputs": [
    {
     "data": {
      "text/html": [
       "<div>\n",
       "<style scoped>\n",
       "    .dataframe tbody tr th:only-of-type {\n",
       "        vertical-align: middle;\n",
       "    }\n",
       "\n",
       "    .dataframe tbody tr th {\n",
       "        vertical-align: top;\n",
       "    }\n",
       "\n",
       "    .dataframe thead th {\n",
       "        text-align: right;\n",
       "    }\n",
       "</style>\n",
       "<table border=\"1\" class=\"dataframe\">\n",
       "  <thead>\n",
       "    <tr style=\"text-align: right;\">\n",
       "      <th></th>\n",
       "      <th>dataset</th>\n",
       "      <th>clf</th>\n",
       "      <th>accuracy</th>\n",
       "      <th>od</th>\n",
       "    </tr>\n",
       "  </thead>\n",
       "  <tbody>\n",
       "    <tr>\n",
       "      <th>0</th>\n",
       "      <td>tf-idf-100</td>\n",
       "      <td>LMT</td>\n",
       "      <td>0.95095</td>\n",
       "      <td>KDN</td>\n",
       "    </tr>\n",
       "    <tr>\n",
       "      <th>1</th>\n",
       "      <td>bin_100</td>\n",
       "      <td>SMO</td>\n",
       "      <td>0.94964</td>\n",
       "      <td>TD</td>\n",
       "    </tr>\n",
       "    <tr>\n",
       "      <th>2</th>\n",
       "      <td>tf-idf-100</td>\n",
       "      <td>SMO</td>\n",
       "      <td>0.94947</td>\n",
       "      <td>TD</td>\n",
       "    </tr>\n",
       "    <tr>\n",
       "      <th>3</th>\n",
       "      <td>tf-100</td>\n",
       "      <td>LMT</td>\n",
       "      <td>0.94947</td>\n",
       "      <td>TD</td>\n",
       "    </tr>\n",
       "    <tr>\n",
       "      <th>4</th>\n",
       "      <td>tf-100</td>\n",
       "      <td>SMO</td>\n",
       "      <td>0.94915</td>\n",
       "      <td>TD</td>\n",
       "    </tr>\n",
       "    <tr>\n",
       "      <th>5</th>\n",
       "      <td>tf-100</td>\n",
       "      <td>SMO</td>\n",
       "      <td>0.94833</td>\n",
       "      <td>TDWithPrunning</td>\n",
       "    </tr>\n",
       "    <tr>\n",
       "      <th>6</th>\n",
       "      <td>tf-100</td>\n",
       "      <td>SMO</td>\n",
       "      <td>0.94833</td>\n",
       "      <td>ClassLikelihood</td>\n",
       "    </tr>\n",
       "    <tr>\n",
       "      <th>7</th>\n",
       "      <td>tf-idf-100</td>\n",
       "      <td>SMO</td>\n",
       "      <td>0.94833</td>\n",
       "      <td>TDWithPrunning</td>\n",
       "    </tr>\n",
       "    <tr>\n",
       "      <th>8</th>\n",
       "      <td>bin_100</td>\n",
       "      <td>SMO</td>\n",
       "      <td>0.94833</td>\n",
       "      <td>ClassLikelihood</td>\n",
       "    </tr>\n",
       "    <tr>\n",
       "      <th>9</th>\n",
       "      <td>bin_100</td>\n",
       "      <td>SMO</td>\n",
       "      <td>0.94833</td>\n",
       "      <td>ClassLikelihoodDifference</td>\n",
       "    </tr>\n",
       "  </tbody>\n",
       "</table>\n",
       "</div>"
      ],
      "text/plain": [
       "      dataset  clf  accuracy                         od\n",
       "0  tf-idf-100  LMT   0.95095                        KDN\n",
       "1     bin_100  SMO   0.94964                         TD\n",
       "2  tf-idf-100  SMO   0.94947                         TD\n",
       "3      tf-100  LMT   0.94947                         TD\n",
       "4      tf-100  SMO   0.94915                         TD\n",
       "5      tf-100  SMO   0.94833             TDWithPrunning\n",
       "6      tf-100  SMO   0.94833            ClassLikelihood\n",
       "7  tf-idf-100  SMO   0.94833             TDWithPrunning\n",
       "8     bin_100  SMO   0.94833            ClassLikelihood\n",
       "9     bin_100  SMO   0.94833  ClassLikelihoodDifference"
      ]
     },
     "execution_count": 54,
     "metadata": {},
     "output_type": "execute_result"
    }
   ],
   "source": [
    "results2.sort_values(by=['accuracy'], ascending=False).reset_index(drop=True).head(10).drop(['clf_family', 'clf_params', 'step_0', 'step_1', 'step_2'], axis=1)"
   ]
  },
  {
   "cell_type": "markdown",
   "metadata": {},
   "source": [
    "## Five percent outliers"
   ]
  },
  {
   "cell_type": "code",
   "execution_count": 55,
   "metadata": {},
   "outputs": [
    {
     "data": {
      "text/html": [
       "<div>\n",
       "<style scoped>\n",
       "    .dataframe tbody tr th:only-of-type {\n",
       "        vertical-align: middle;\n",
       "    }\n",
       "\n",
       "    .dataframe tbody tr th {\n",
       "        vertical-align: top;\n",
       "    }\n",
       "\n",
       "    .dataframe thead th {\n",
       "        text-align: right;\n",
       "    }\n",
       "</style>\n",
       "<table border=\"1\" class=\"dataframe\">\n",
       "  <thead>\n",
       "    <tr style=\"text-align: right;\">\n",
       "      <th></th>\n",
       "      <th>dataset</th>\n",
       "      <th>clf</th>\n",
       "      <th>accuracy</th>\n",
       "      <th>od</th>\n",
       "    </tr>\n",
       "  </thead>\n",
       "  <tbody>\n",
       "    <tr>\n",
       "      <th>0</th>\n",
       "      <td>bin_100</td>\n",
       "      <td>SMO</td>\n",
       "      <td>0.94915</td>\n",
       "      <td>LOF</td>\n",
       "    </tr>\n",
       "    <tr>\n",
       "      <th>1</th>\n",
       "      <td>tf-100</td>\n",
       "      <td>SMO</td>\n",
       "      <td>0.94915</td>\n",
       "      <td>LOF</td>\n",
       "    </tr>\n",
       "    <tr>\n",
       "      <th>2</th>\n",
       "      <td>tf-idf-100</td>\n",
       "      <td>SMO</td>\n",
       "      <td>0.94898</td>\n",
       "      <td>LOF</td>\n",
       "    </tr>\n",
       "    <tr>\n",
       "      <th>3</th>\n",
       "      <td>tf-100</td>\n",
       "      <td>LMT</td>\n",
       "      <td>0.94865</td>\n",
       "      <td>LOF</td>\n",
       "    </tr>\n",
       "    <tr>\n",
       "      <th>4</th>\n",
       "      <td>bin_100</td>\n",
       "      <td>LMT</td>\n",
       "      <td>0.94865</td>\n",
       "      <td>LOF</td>\n",
       "    </tr>\n",
       "    <tr>\n",
       "      <th>5</th>\n",
       "      <td>tf-idf-100</td>\n",
       "      <td>LMT</td>\n",
       "      <td>0.94849</td>\n",
       "      <td>OneClassSVM</td>\n",
       "    </tr>\n",
       "    <tr>\n",
       "      <th>6</th>\n",
       "      <td>tf-idf-100</td>\n",
       "      <td>LMT</td>\n",
       "      <td>0.94849</td>\n",
       "      <td>LOF</td>\n",
       "    </tr>\n",
       "    <tr>\n",
       "      <th>7</th>\n",
       "      <td>tf-idf-100</td>\n",
       "      <td>LMT</td>\n",
       "      <td>0.94832</td>\n",
       "      <td>TD</td>\n",
       "    </tr>\n",
       "    <tr>\n",
       "      <th>8</th>\n",
       "      <td>tf-idf-100</td>\n",
       "      <td>LMT</td>\n",
       "      <td>0.94783</td>\n",
       "      <td>NearestNeighbors</td>\n",
       "    </tr>\n",
       "    <tr>\n",
       "      <th>9</th>\n",
       "      <td>bin_100</td>\n",
       "      <td>LMT</td>\n",
       "      <td>0.94734</td>\n",
       "      <td>NearestNeighbors</td>\n",
       "    </tr>\n",
       "  </tbody>\n",
       "</table>\n",
       "</div>"
      ],
      "text/plain": [
       "      dataset  clf  accuracy                od\n",
       "0     bin_100  SMO   0.94915               LOF\n",
       "1      tf-100  SMO   0.94915               LOF\n",
       "2  tf-idf-100  SMO   0.94898               LOF\n",
       "3      tf-100  LMT   0.94865               LOF\n",
       "4     bin_100  LMT   0.94865               LOF\n",
       "5  tf-idf-100  LMT   0.94849       OneClassSVM\n",
       "6  tf-idf-100  LMT   0.94849               LOF\n",
       "7  tf-idf-100  LMT   0.94832                TD\n",
       "8  tf-idf-100  LMT   0.94783  NearestNeighbors\n",
       "9     bin_100  LMT   0.94734  NearestNeighbors"
      ]
     },
     "execution_count": 55,
     "metadata": {},
     "output_type": "execute_result"
    }
   ],
   "source": [
    "results5.sort_values(by=['accuracy'], ascending=False).reset_index(drop=True).head(10).drop(['clf_family', 'clf_params', 'step_0', 'step_1', 'step_2'], axis=1)"
   ]
  },
  {
   "cell_type": "markdown",
   "metadata": {},
   "source": [
    "# Boxplots"
   ]
  },
  {
   "cell_type": "code",
   "execution_count": 84,
   "metadata": {},
   "outputs": [
    {
     "data": {
      "image/png": "[encoded data removed]",
      "text/plain": [
       "<Figure size 432x288 with 1 Axes>"
      ]
     },
     "metadata": {
      "needs_background": "light"
     },
     "output_type": "display_data"
    }
   ],
   "source": [
    "results1[results1['clf'].isin(['LMT', 'SMO', 'RandomForest'])].boxplot(column='accuracy', by='clf')\n",
    "title_boxplot = 'Accuracy for one percent outliers'\n",
    "plt.title( title_boxplot )\n",
    "plt.suptitle('') # that's what you're after\n",
    "plt.xlabel('')\n",
    "plt.show()"
   ]
  },
  {
   "cell_type": "code",
   "execution_count": 85,
   "metadata": {},
   "outputs": [
    {
     "data": {
      "image/png": "[encoded data removed]",
      "text/plain": [
       "<Figure size 432x288 with 1 Axes>"
      ]
     },
     "metadata": {
      "needs_background": "light"
     },
     "output_type": "display_data"
    }
   ],
   "source": [
    "results2[results2['clf'].isin(['LMT', 'SMO', 'RandomForest'])].boxplot(column='accuracy', by='clf')\n",
    "title_boxplot = 'Accuracy for two percent outliers'\n",
    "plt.title( title_boxplot )\n",
    "plt.suptitle('') # that's what you're after\n",
    "plt.xlabel('')\n",
    "plt.show()"
   ]
  },
  {
   "cell_type": "code",
   "execution_count": 83,
   "metadata": {},
   "outputs": [
    {
     "data": {
      "image/png": "[encoded data removed]",
      "text/plain": [
       "<Figure size 432x288 with 1 Axes>"
      ]
     },
     "metadata": {
      "needs_background": "light"
     },
     "output_type": "display_data"
    }
   ],
   "source": [
    "results5[results5['clf'].isin(['LMT', 'SMO', 'RandomForest'])].boxplot(column='accuracy', by='clf')\n",
    "title_boxplot = 'Accuracy for five percent outliers'\n",
    "plt.title( title_boxplot )\n",
    "plt.suptitle('') # that's what you're after\n",
    "plt.xlabel('')\n",
    "plt.show()"
   ]
  },
  {
   "cell_type": "code",
   "execution_count": null,
   "metadata": {},
   "outputs": [],
   "source": []
  }
 ],
 "metadata": {
  "kernelspec": {
   "display_name": "Python 3",
   "language": "python",
   "name": "python3"
  },
  "language_info": {
   "codemirror_mode": {
    "name": "ipython",
    "version": 3
   },
   "file_extension": ".py",
   "mimetype": "text/x-python",
   "name": "python",
   "nbconvert_exporter": "python",
   "pygments_lexer": "ipython3",
   "version": "3.8.6"
  }
 },
 "nbformat": 4,
 "nbformat_minor": 4
}
